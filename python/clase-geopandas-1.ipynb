{
 "cells": [
  {
   "cell_type": "markdown",
   "metadata": {},
   "source": [
    "# Introducción a GeoPandas"
   ]
  },
  {
   "cell_type": "code",
   "execution_count": 3,
   "metadata": {},
   "outputs": [],
   "source": [
    "# importar librerías\n",
    "import pandas as pd\n",
    "import geopandas as gpd\n",
    "import seaborn as sns\n",
    "# import plotly\n",
    "# import folium\n",
    "# from keplergl import KeplerGl"
   ]
  },
  {
   "cell_type": "code",
   "execution_count": 7,
   "metadata": {},
   "outputs": [],
   "source": [
    "# Para cargar directamente desde el servicio de ArcGIS Online\n",
    "# tabla_zonas_gse = gpd.read_file('https://opendata.arcgis.com/api/v3/datasets/97ae30fe071349e89d9d5ebd5dfa2aec_0/downloads/data?format=shp&spatialRefId=4326')\n",
    "\n",
    "# Cargar los datos en forma local (en formato shapefile)\n",
    "tabla_zonas_gse = gpd.read_file('../resources/data/ISMT.shp')"
   ]
  },
  {
   "cell_type": "markdown",
   "metadata": {},
   "source": [
    "### Ejercicios\n",
    "\n",
    "1. Definir distribución de GSE por comuna\n",
    "2. Calcular Gasto Potencial por comuna\n",
    "3. Calcular Gasto Potencial por zona\n",
    "4. Identificar localización óptima"
   ]
  }
 ],
 "metadata": {
  "kernelspec": {
   "display_name": "Python 3",
   "language": "python",
   "name": "python3"
  },
  "language_info": {
   "codemirror_mode": {
    "name": "ipython",
    "version": 3
   },
   "file_extension": ".py",
   "mimetype": "text/x-python",
   "name": "python",
   "nbconvert_exporter": "python",
   "pygments_lexer": "ipython3",
   "version": "3.6.9"
  }
 },
 "nbformat": 4,
 "nbformat_minor": 4
}
